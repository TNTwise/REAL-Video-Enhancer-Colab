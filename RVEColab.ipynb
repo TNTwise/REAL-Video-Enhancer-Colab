{
  "cells": [
    {
      "cell_type": "code",
      "execution_count": null,
      "metadata": {
        "id": "7i7UVVPrHpdW"
      },
      "outputs": [],
      "source": [
        "!rm -rf real-video-enhancer/\n",
        "!git clone https://github.com/tntwise/real-video-enhancer --branch RVE-2.1.0"
      ]
    },
    {
      "cell_type": "code",
      "execution_count": null,
      "metadata": {
        "id": "7DAndfQ0KIbx"
      },
      "outputs": [],
      "source": [
        "# https://github.com/TNTwise/real-video-enhancer-models/releases/download/models/ is where all model files for RVE are stored\n",
        "# you can download them from there, or try custom models from https://openmodeldb.info/\n",
        "# Use .pth models for upscaling, and rife .pkl for interpolation\n",
        "!mkdir real-video-enhancer/models/\n",
        "!cd real-video-enhancer/models/ && wget https://github.com/TNTwise/real-video-enhancer-models/releases/download/models/rife4.26.pkl\n",
        "!cd real-video-enhancer/models/ && wget https://github.com/TNTwise/real-video-enhancer-models/releases/download/models/rife4.22.pkl\n",
        "!cd real-video-enhancer/models/ && wget https://github.com/TNTwise/real-video-enhancer-models/releases/download/models/rife4.22-lite.pkl # this is the fastest model\n",
        "!cd real-video-enhancer/models/ && wget https://github.com/TNTwise/real-video-enhancer-models/releases/download/models/2x_ModernSpanimationV2.pth\n"
      ]
    },
    {
      "cell_type": "code",
      "execution_count": null,
      "metadata": {
        "id": "NhG0D85MIXRA"
      },
      "outputs": [],
      "source": [
        "#!pip install --pre --extra-index-url https://download.pytorch.org/whl/nightly/cu124 --no-deps torch_tensorrt==2.6.0.dev20241023\n",
        "#!pip install --pre --extra-index-url https://download.pytorch.org/whl/nightly/cu124 -r real-video-enhancer/backend/requirements.txt --force\n",
        "!cd real-video-enhancer && mkdir bin/ && cd bin && wget https://github.com/TNTwise/real-video-enhancer-models/releases/download/models/ffmpeg && chmod +x ffmpeg"
      ]
    },
    {
      "cell_type": "markdown",
      "metadata": {
        "id": "B1Kz_PTJb3B_"
      },
      "source": [
        "\n",
        "\n",
        "```\n",
        "usage: rve-backend.py [-h] [-i INPUT] [-o OUTPUT] [-l OVERLAP] [-b BACKEND] [--upscaleModel UPSCALEMODEL] [--interpolateModel INTERPOLATEMODEL] [--interpolateFactor INTERPOLATEFACTOR] [--precision PRECISION]\n",
        "                      [--tensorrt_opt_profile TENSORRT_OPT_PROFILE] [--sceneDetectMethod SCENEDETECTMETHOD] [--sceneDetectSensitivity SCENEDETECTSENSITIVITY] [--overwrite] [--crf CRF]\n",
        "                      [--custom_encoder CUSTOM_ENCODER] [--tilesize TILESIZE]\n",
        "\n",
        "Backend to RVE, used to upscale and interpolate videos\n",
        "\n",
        "options:\n",
        "  -h, --help            show this help message and exit\n",
        "  -i INPUT, --input INPUT\n",
        "                        input video path\n",
        "  -o OUTPUT, --output OUTPUT\n",
        "                        output video path or PIPE\n",
        "  -l OVERLAP, --overlap OVERLAP\n",
        "                        overlap size on tiled rendering (default=10)\n",
        "  -b BACKEND, --backend BACKEND\n",
        "                        backend used to upscale image. (pytorch/ncnn/tensorrt/directml, default=pytorch)\n",
        "  --upscaleModel UPSCALEMODEL\n",
        "                        Direct path to upscaling model, will automatically upscale if model is valid.\n",
        "  --interpolateModel INTERPOLATEMODEL\n",
        "                        Direct path to interpolation model, will automatically upscale if model is valid.\n",
        "  --interpolateFactor INTERPOLATEFACTOR\n",
        "                        Multiplier for interpolation, will round up to nearest integer for interpolation but the fps will be correct\n",
        "  --precision PRECISION\n",
        "                        sets precision for model, (auto/float16/float32, default=auto)\n",
        "  --tensorrt_opt_profile TENSORRT_OPT_PROFILE\n",
        "                        sets tensorrt optimization profile for model, (1/2/3/4/5, default=3)\n",
        "  --sceneDetectMethod SCENEDETECTMETHOD\n",
        "                        Scene change detection to avoid interpolating transitions. (options=mean, mean_segmented, none) Mean segmented splits up an image, and if an arbitrary number of segments changes are\n",
        "                        detected within the segments, it will trigger a scene change. (lower sensativity thresholds are not recommended)\n",
        "  --sceneDetectSensitivity SCENEDETECTSENSITIVITY\n",
        "                        Scene change detection sensitivity, lower number means it has a higher chance of detecting scene changes, with risk of detecting too many.\n",
        "  --overwrite           Overwrite output video if it already exists.\n",
        "  --crf CRF             Constant rate factor for videos, lower setting means higher quality.\n",
        "  --custom_encoder CUSTOM_ENCODER\n",
        "                        custom encoder\n",
        "  --tilesize TILESIZE   upscale images in smaller chunks, default is the size of the input video\n",
        "```\n",
        "\n"
      ]
    },
    {
      "cell_type": "code",
      "execution_count": null,
      "metadata": {
        "id": "VzEEIflBLpAG"
      },
      "outputs": [],
      "source": [
        "#example upscale/denoise command\n",
        "!cd real-video-enhancer/ && python3 backend/rve-backend.py -i ../{INPUT_FILE} -o ../{OUTPUT_FILE} --upscaleModel models/{MODEL} --backend pytorch"
      ]
    },
    {
      "cell_type": "code",
      "source": [
        "# example interpoalte command\n",
        "!cd real-video-enhancer/ && python3 backend/rve-backend.py -i ../{INPUT_FILE} -o ../{OUTPUT_FILE} --interpolateModel models/rife4.26.pkl --backend pytorch --interpolateFactor 2"
      ],
      "metadata": {
        "id": "17TmpuaX5BeO"
      },
      "execution_count": null,
      "outputs": []
    },
    {
      "cell_type": "code",
      "source": [
        "!cd real-video-enhancer/ && cat backend_log.txt"
      ],
      "metadata": {
        "id": "0kPaPeSAs0eh"
      },
      "execution_count": null,
      "outputs": []
    }
  ],
  "metadata": {
    "accelerator": "GPU",
    "colab": {
      "gpuType": "T4",
      "provenance": []
    },
    "kernelspec": {
      "display_name": "Python 3",
      "name": "python3"
    },
    "language_info": {
      "name": "python"
    }
  },
  "nbformat": 4,
  "nbformat_minor": 0
}
